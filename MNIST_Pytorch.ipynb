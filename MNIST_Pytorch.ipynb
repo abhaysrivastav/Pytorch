{
  "nbformat": 4,
  "nbformat_minor": 0,
  "metadata": {
    "colab": {
      "name": "MNIST_Pytorch.ipynb",
      "version": "0.3.2",
      "provenance": [],
      "collapsed_sections": [],
      "include_colab_link": true
    },
    "kernelspec": {
      "name": "python3",
      "display_name": "Python 3"
    }
  },
  "cells": [
    {
      "cell_type": "markdown",
      "metadata": {
        "id": "view-in-github",
        "colab_type": "text"
      },
      "source": [
        "<a href=\"https://colab.research.google.com/github/abhaysrivastav/Pytorch/blob/master/MNIST_Pytorch.ipynb\" target=\"_parent\"><img src=\"https://colab.research.google.com/assets/colab-badge.svg\" alt=\"Open In Colab\"/></a>"
      ]
    },
    {
      "cell_type": "code",
      "metadata": {
        "id": "7H24umiX_ZBV",
        "colab_type": "code",
        "outputId": "af234af4-31ba-470b-f53b-3c517e37650d",
        "colab": {
          "base_uri": "https://localhost:8080/",
          "height": 118
        }
      },
      "source": [
        "!pip3 install torch torchvision\n"
      ],
      "execution_count": 0,
      "outputs": [
        {
          "output_type": "stream",
          "text": [
            "Requirement already satisfied: torch in /usr/local/lib/python3.6/dist-packages (1.1.0)\n",
            "Requirement already satisfied: torchvision in /usr/local/lib/python3.6/dist-packages (0.3.0)\n",
            "Requirement already satisfied: numpy in /usr/local/lib/python3.6/dist-packages (from torch) (1.16.4)\n",
            "Requirement already satisfied: pillow>=4.1.1 in /usr/local/lib/python3.6/dist-packages (from torchvision) (4.1.1)\n",
            "Requirement already satisfied: six in /usr/local/lib/python3.6/dist-packages (from torchvision) (1.12.0)\n",
            "Requirement already satisfied: olefile in /usr/local/lib/python3.6/dist-packages (from pillow>=4.1.1->torchvision) (0.46)\n"
          ],
          "name": "stdout"
        }
      ]
    },
    {
      "cell_type": "code",
      "metadata": {
        "id": "dLFAsWWq_eoZ",
        "colab_type": "code",
        "colab": {}
      },
      "source": [
        "import torch\n",
        "import matplotlib.pyplot as plt\n",
        "import numpy as np\n",
        "from torch import nn\n",
        "import torch.nn.functional as F\n",
        "from torchvision import datasets, transforms"
      ],
      "execution_count": 0,
      "outputs": []
    },
    {
      "cell_type": "code",
      "metadata": {
        "id": "E6hOS6XRANgP",
        "colab_type": "code",
        "colab": {}
      },
      "source": [
        "transform = transforms.Compose([transforms.Resize((28,28)),\n",
        "                                transforms.ToTensor(), \n",
        "                                transforms.Normalize((0.5,), (0.5,))\n",
        "                                ])\n",
        "training_dataset = datasets.MNIST(root = '/data', train=True, download=True, transform = transform ) \n",
        "validation_dataset = datasets.MNIST(root = '/data', train=False, download=True, transform = transform ) \n",
        "\n",
        "training_loader = torch.utils.data.DataLoader(dataset=training_dataset, batch_size = 100, shuffle=True)\n",
        "validation_loader = torch.utils.data.DataLoader(dataset=validation_dataset, batch_size = 100, shuffle=False)"
      ],
      "execution_count": 0,
      "outputs": []
    },
    {
      "cell_type": "code",
      "metadata": {
        "id": "DudAW1qPCx8f",
        "colab_type": "code",
        "colab": {}
      },
      "source": [
        "def im_convert(tensor):\n",
        "  image = tensor.clone().detach().numpy()\n",
        "  image = image.transpose(1, 2, 0)\n",
        "  image = image* np.array((0.5, 0.5, 0.5)) + np.array((0.5, 0.5, 0.5))\n",
        "  image = image.clip(0, 1)\n",
        "  return image"
      ],
      "execution_count": 0,
      "outputs": []
    },
    {
      "cell_type": "code",
      "metadata": {
        "id": "TtvDzzEdGu5i",
        "colab_type": "code",
        "outputId": "2df8cf4f-5d1b-49f2-a4ff-c78ff8cf3d2c",
        "colab": {
          "base_uri": "https://localhost:8080/",
          "height": 268
        }
      },
      "source": [
        "dataiter = iter(training_loader)\n",
        "images, labels = dataiter.next()\n",
        "fig = plt.figure(figsize=(25,4))\n",
        "\n",
        "for idx in np.arange(20):\n",
        "  ax = fig.add_subplot(2, 10, idx+1,  xticks=[], yticks=[])\n",
        "  plt.imshow(im_convert(images[idx]))\n",
        "  ax.set_title([labels[idx].item()])\n",
        "  \n",
        "  "
      ],
      "execution_count": 0,
      "outputs": [
        {
          "output_type": "display_data",
          "data": {
            "image/png": "[encoded data removed]",
            "text/plain": [
              "<Figure size 1800x288 with 20 Axes>"
            ]
          },
          "metadata": {
            "tags": []
          }
        }
      ]
    },
    {
      "cell_type": "code",
      "metadata": {
        "id": "DVx_qHdq0wZz",
        "colab_type": "code",
        "colab": {}
      },
      "source": [
        "class Classifier(nn.Module):\n",
        "  def __init__(self, D_in, H1, H2, D_out):\n",
        "    super().__init__()\n",
        "    self.linear1 = nn.Linear(D_in, H1)\n",
        "    self.linear2 = nn.Linear(H1, H2)\n",
        "    self.linear3 = nn.Linear(H2, D_out)\n",
        "  \n",
        "  def forward(self, x):\n",
        "    x = F.relu(self.linear1(x))\n",
        "    x = F.relu(self.linear2(x))\n",
        "    x = self.linear3(x)\n",
        "    return x\n",
        "\n"
      ],
      "execution_count": 0,
      "outputs": []
    },
    {
      "cell_type": "code",
      "metadata": {
        "id": "liljFsvo2vHO",
        "colab_type": "code",
        "outputId": "19f84a20-d8d3-41a7-9e7a-e741faf18701",
        "colab": {
          "base_uri": "https://localhost:8080/",
          "height": 101
        }
      },
      "source": [
        "model = Classifier(784, 125, 65, 10)\n",
        "model"
      ],
      "execution_count": 0,
      "outputs": [
        {
          "output_type": "execute_result",
          "data": {
            "text/plain": [
              "Classifier(\n",
              "  (linear1): Linear(in_features=784, out_features=125, bias=True)\n",
              "  (linear2): Linear(in_features=125, out_features=65, bias=True)\n",
              "  (linear3): Linear(in_features=65, out_features=10, bias=True)\n",
              ")"
            ]
          },
          "metadata": {
            "tags": []
          },
          "execution_count": 13
        }
      ]
    },
    {
      "cell_type": "code",
      "metadata": {
        "id": "_nsU7_vQ3elZ",
        "colab_type": "code",
        "colab": {}
      },
      "source": [
        "criterion = nn.CrossEntropyLoss()\n",
        "optimizer = torch.optim.Adam(model.parameters(), lr= 0.0001)"
      ],
      "execution_count": 0,
      "outputs": []
    },
    {
      "cell_type": "code",
      "metadata": {
        "id": "NW9anbrZ4SfH",
        "colab_type": "code",
        "outputId": "161cba1f-c5e1-4ba8-f988-934018334596",
        "colab": {
          "base_uri": "https://localhost:8080/",
          "height": 790
        }
      },
      "source": [
        "epochs = 15\n",
        "running_loss_history = []\n",
        "running_corrects_history = []\n",
        "val_running_loss_history = []\n",
        "val_running_loss_correct = []\n",
        "\n",
        "for e in range(epochs):\n",
        "  running_loss = 0.0\n",
        "  running_corrects = 0.0\n",
        "  val_running_loss = 0.0\n",
        "  val_running_correct = 0.0\n",
        "\n",
        "  for inputs, labels in training_loader:\n",
        "    inputs = inputs.view(inputs.shape[0], -1)\n",
        "    outputs = model(inputs)\n",
        "    loss = criterion(outputs, labels)\n",
        "    optimizer.zero_grad()\n",
        "    loss.backward()\n",
        "    optimizer.step()\n",
        "\n",
        "    _, preds = torch.max(outputs, 1)\n",
        "    \n",
        "    running_loss += loss.item()\n",
        "    running_corrects += torch.sum(preds == labels.data)\n",
        "  else:\n",
        "    with torch.no_grad():\n",
        "      for val_inputs , val_labels in validation_loader:\n",
        "        val_inputs = val_inputs.view(val_inputs.shape[0], -1)\n",
        "        val_outputs = model(val_inputs)\n",
        "        val_loss = criterion(val_outputs, val_labels)\n",
        "        _, val_preds = torch.max(val_outputs, 1)    \n",
        "        val_running_loss += val_loss.item()\n",
        "        val_running_correct += torch.sum(val_preds == val_labels.data)\n",
        "\n",
        "    epoch_loss = running_loss/len(training_loader)\n",
        "    epoch_acc = running_corrects.float()/len(training_loader)\n",
        "    running_loss_history.append(epoch_loss)\n",
        "    running_corrects_history.append(epoch_acc)\n",
        "\n",
        "    val_epoch_loss = val_running_loss/len(validation_loader)\n",
        "    val_epoch_acc = val_running_correct.float()/len(validation_loader)\n",
        "    val_running_loss_history.append(val_epoch_loss)           \n",
        "    val_running_loss_correct.append(val_epoch_acc)                                      \n",
        "    print('epoch : ', (e+1))\n",
        "    print('training loss: {:.4f}, acc{:.4f}'.format(epoch_loss, epoch_acc.item()) )\n",
        "    print('Validation loss: {:.4f}, Validation acc{:.4f}'.format(val_epoch_loss, val_epoch_acc.item()) )\n",
        "\n",
        "print('Training Done!')"
      ],
      "execution_count": 0,
      "outputs": [
        {
          "output_type": "stream",
          "text": [
            "epoch :  1\n",
            "training loss: 0.9226, acc79.0367\n",
            "Validation loss: 0.4078, Validation acc89.2600\n",
            "epoch :  2\n",
            "training loss: 0.3686, acc89.6400\n",
            "Validation loss: 0.3174, Validation acc90.8000\n",
            "epoch :  3\n",
            "training loss: 0.3121, acc91.0400\n",
            "Validation loss: 0.2847, Validation acc92.2500\n",
            "epoch :  4\n",
            "training loss: 0.2811, acc91.8967\n",
            "Validation loss: 0.2607, Validation acc92.4100\n",
            "epoch :  5\n",
            "training loss: 0.2574, acc92.6050\n",
            "Validation loss: 0.2392, Validation acc93.2000\n",
            "epoch :  6\n",
            "training loss: 0.2362, acc93.2317\n",
            "Validation loss: 0.2215, Validation acc93.4900\n",
            "epoch :  7\n",
            "training loss: 0.2179, acc93.7650\n",
            "Validation loss: 0.2098, Validation acc93.7800\n",
            "epoch :  8\n",
            "training loss: 0.2016, acc94.2133\n",
            "Validation loss: 0.1940, Validation acc94.3400\n",
            "epoch :  9\n",
            "training loss: 0.1877, acc94.6700\n",
            "Validation loss: 0.1780, Validation acc94.6800\n",
            "epoch :  10\n",
            "training loss: 0.1745, acc95.0083\n",
            "Validation loss: 0.1704, Validation acc94.7500\n",
            "epoch :  11\n",
            "training loss: 0.1637, acc95.2583\n",
            "Validation loss: 0.1601, Validation acc95.1400\n",
            "epoch :  12\n",
            "training loss: 0.1537, acc95.5833\n",
            "Validation loss: 0.1552, Validation acc95.4800\n",
            "epoch :  13\n",
            "training loss: 0.1443, acc95.8900\n",
            "Validation loss: 0.1429, Validation acc95.8000\n",
            "epoch :  14\n",
            "training loss: 0.1368, acc96.0950\n",
            "Validation loss: 0.1379, Validation acc95.8600\n",
            "epoch :  15\n",
            "training loss: 0.1296, acc96.3100\n",
            "Validation loss: 0.1308, Validation acc96.0500\n",
            "Training Done!\n"
          ],
          "name": "stdout"
        }
      ]
    },
    {
      "cell_type": "code",
      "metadata": {
        "id": "onv-e9AXO1f3",
        "colab_type": "code",
        "outputId": "6015ac80-93ca-4186-ea69-d9bce8016ee4",
        "colab": {
          "base_uri": "https://localhost:8080/",
          "height": 286
        }
      },
      "source": [
        "plt.plot(running_loss_history, label = 'training loss')\n",
        "plt.plot(val_running_loss_history, label = 'Validation loss')\n",
        "plt.legend()"
      ],
      "execution_count": 0,
      "outputs": [
        {
          "output_type": "execute_result",
          "data": {
            "text/plain": [
              "<matplotlib.legend.Legend at 0x7f8176ac0470>"
            ]
          },
          "metadata": {
            "tags": []
          },
          "execution_count": 16
        },
        {
          "output_type": "display_data",
          "data": {
            "image/png": "[encoded data removed]",
            "text/plain": [
              "<Figure size 432x288 with 1 Axes>"
            ]
          },
          "metadata": {
            "tags": []
          }
        }
      ]
    },
    {
      "cell_type": "code",
      "metadata": {
        "id": "nbkoI9HZer74",
        "colab_type": "code",
        "outputId": "82fe1026-4693-4b52-9f0f-98820db63bd8",
        "colab": {
          "base_uri": "https://localhost:8080/",
          "height": 286
        }
      },
      "source": [
        "plt.plot(running_corrects_history, label = 'training accuracy')\n",
        "plt.plot(val_running_loss_correct, label = 'Validation accuracy')\n",
        "plt.legend()"
      ],
      "execution_count": 0,
      "outputs": [
        {
          "output_type": "execute_result",
          "data": {
            "text/plain": [
              "<matplotlib.legend.Legend at 0x7f8176c513c8>"
            ]
          },
          "metadata": {
            "tags": []
          },
          "execution_count": 17
        },
        {
          "output_type": "display_data",
          "data": {
            "image/png": "[encoded data removed]",
            "text/plain": [
              "<Figure size 432x288 with 1 Axes>"
            ]
          },
          "metadata": {
            "tags": []
          }
        }
      ]
    },
    {
      "cell_type": "markdown",
      "metadata": {
        "id": "uG2bx_PkMUuB",
        "colab_type": "text"
      },
      "source": [
        "Validation accuracy becoming lower so the solution is regularization"
      ]
    },
    {
      "cell_type": "code",
      "metadata": {
        "id": "GiZZf-qzQOAZ",
        "colab_type": "code",
        "outputId": "49805e1e-9616-476c-af5f-1f7eff3dee65",
        "colab": {
          "base_uri": "https://localhost:8080/",
          "height": 50
        }
      },
      "source": [
        "!pip install pillow==4.1.1\n",
        "%reload_ext autoreload\n",
        "%autoreload"
      ],
      "execution_count": 0,
      "outputs": [
        {
          "output_type": "stream",
          "text": [
            "Requirement already satisfied: pillow==4.1.1 in /usr/local/lib/python3.6/dist-packages (4.1.1)\n",
            "Requirement already satisfied: olefile in /usr/local/lib/python3.6/dist-packages (from pillow==4.1.1) (0.46)\n"
          ],
          "name": "stdout"
        }
      ]
    },
    {
      "cell_type": "code",
      "metadata": {
        "id": "Gr3SGeusMRaI",
        "colab_type": "code",
        "outputId": "bc17ea40-ee84-4c8e-9465-f12de4b688eb",
        "colab": {
          "base_uri": "https://localhost:8080/",
          "height": 286
        }
      },
      "source": [
        "import requests\n",
        "from PIL import *\n",
        "url = 'https://images.homedepot-static.com/productImages/007164ea-d47e-4f66-8d8c-fd9f621984a2/svn/architectural-mailboxes-house-letters-numbers-3585b-5-64_1000.jpg'\n",
        "response = requests.get(url, stream = True)\n",
        "img = Image.open(response.raw)\n",
        "plt.imshow(img)\n"
      ],
      "execution_count": 0,
      "outputs": [
        {
          "output_type": "execute_result",
          "data": {
            "text/plain": [
              "<matplotlib.image.AxesImage at 0x7f8176b5a320>"
            ]
          },
          "metadata": {
            "tags": []
          },
          "execution_count": 21
        },
        {
          "output_type": "display_data",
          "data": {
            "image/png": "[encoded data removed]",
            "text/plain": [
              "<Figure size 432x288 with 1 Axes>"
            ]
          },
          "metadata": {
            "tags": []
          }
        }
      ]
    },
    {
      "cell_type": "code",
      "metadata": {
        "id": "Wc0P1P5jmuaB",
        "colab_type": "code",
        "colab": {}
      },
      "source": [
        "import PIL.ImageOps"
      ],
      "execution_count": 0,
      "outputs": []
    },
    {
      "cell_type": "code",
      "metadata": {
        "id": "zda-iOMLOA4n",
        "colab_type": "code",
        "outputId": "8fc9dc28-e6ec-4971-f184-e4b68ed4b622",
        "colab": {
          "base_uri": "https://localhost:8080/",
          "height": 286
        }
      },
      "source": [
        "img = PIL.ImageOps.invert(img)\n",
        "img = img.convert('1')\n",
        "img  = transform(img)\n",
        "plt.imshow(im_convert(img))"
      ],
      "execution_count": 0,
      "outputs": [
        {
          "output_type": "execute_result",
          "data": {
            "text/plain": [
              "<matplotlib.image.AxesImage at 0x7f8175a6dfd0>"
            ]
          },
          "metadata": {
            "tags": []
          },
          "execution_count": 29
        },
        {
          "output_type": "display_data",
          "data": {
            "image/png": "[encoded data removed]",
            "text/plain": [
              "<Figure size 432x288 with 1 Axes>"
            ]
          },
          "metadata": {
            "tags": []
          }
        }
      ]
    },
    {
      "cell_type": "code",
      "metadata": {
        "id": "MjHwgb_JQLFm",
        "colab_type": "code",
        "outputId": "0b6a64ae-5294-4556-d637-1dd67073eda0",
        "colab": {
          "base_uri": "https://localhost:8080/",
          "height": 34
        }
      },
      "source": [
        "img = img.view(img.shape[0], -1)\n",
        "outputs = model(img)\n",
        "_, pred = torch.max(outputs, 1)    \n",
        "print(pred.item())"
      ],
      "execution_count": 0,
      "outputs": [
        {
          "output_type": "stream",
          "text": [
            "5\n"
          ],
          "name": "stdout"
        }
      ]
    },
    {
      "cell_type": "code",
      "metadata": {
        "id": "IDjvzZArnwU6",
        "colab_type": "code",
        "colab": {}
      },
      "source": [
        ""
      ],
      "execution_count": 0,
      "outputs": []
    }
  ]
}