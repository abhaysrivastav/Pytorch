{
  "nbformat": 4,
  "nbformat_minor": 0,
  "metadata": {
    "colab": {
      "name": "Linear_Regression_1.ipynb",
      "version": "0.3.2",
      "provenance": [],
      "collapsed_sections": [],
      "include_colab_link": true
    },
    "kernelspec": {
      "name": "python3",
      "display_name": "Python 3"
    }
  },
  "cells": [
    {
      "cell_type": "markdown",
      "metadata": {
        "id": "view-in-github",
        "colab_type": "text"
      },
      "source": [
        "<a href=\"https://colab.research.google.com/github/abhaysrivastav/Pytorch/blob/master/Linear_Regression_1.ipynb\" target=\"_parent\"><img src=\"https://colab.research.google.com/assets/colab-badge.svg\" alt=\"Open In Colab\"/></a>"
      ]
    },
    {
      "cell_type": "code",
      "metadata": {
        "id": "yz6tk53kTKT5",
        "colab_type": "code",
        "colab": {}
      },
      "source": [
        "import torch\n",
        "from torch.nn import Linear\n"
      ],
      "execution_count": 0,
      "outputs": []
    },
    {
      "cell_type": "code",
      "metadata": {
        "id": "0NZqKPbhVEtN",
        "colab_type": "code",
        "outputId": "657bc341-b60a-451b-d08a-af80f43aee80",
        "colab": {
          "base_uri": "https://localhost:8080/",
          "height": 67
        }
      },
      "source": [
        "torch.manual_seed(1)\n",
        "model =  Linear(in_features=1 , out_features=1)\n",
        "print(model.bias, model.weight)"
      ],
      "execution_count": 2,
      "outputs": [
        {
          "output_type": "stream",
          "text": [
            "Parameter containing:\n",
            "tensor([-0.4414], requires_grad=True) Parameter containing:\n",
            "tensor([[0.5153]], requires_grad=True)\n"
          ],
          "name": "stdout"
        }
      ]
    },
    {
      "cell_type": "code",
      "metadata": {
        "id": "bV5TMJMzcRtV",
        "colab_type": "code",
        "outputId": "69a7125e-5950-40ac-a026-414ae819abf4",
        "colab": {
          "base_uri": "https://localhost:8080/",
          "height": 50
        }
      },
      "source": [
        "x = torch.tensor([[2.0], [3.0]])\n",
        "print(model(x))"
      ],
      "execution_count": 3,
      "outputs": [
        {
          "output_type": "stream",
          "text": [
            "tensor([[0.5891],\n",
            "        [1.1044]], grad_fn=<AddmmBackward>)\n"
          ],
          "name": "stdout"
        }
      ]
    },
    {
      "cell_type": "markdown",
      "metadata": {
        "id": "rkkiYO2S332d",
        "colab_type": "text"
      },
      "source": [
        "**Custom Linear Models**\n",
        "\n",
        "---\n",
        "\n",
        "\n",
        "\n",
        "---\n",
        "\n"
      ]
    },
    {
      "cell_type": "code",
      "metadata": {
        "id": "i5lpXfgZ39n5",
        "colab_type": "code",
        "colab": {}
      },
      "source": [
        "import torch.nn as nn\n",
        "import matplotlib.pyplot as plt\n",
        "import numpy as np\n"
      ],
      "execution_count": 0,
      "outputs": []
    },
    {
      "cell_type": "code",
      "metadata": {
        "id": "AjTEmaP5C5H3",
        "colab_type": "code",
        "outputId": "54539b0b-6d99-4986-ec82-31c32646dec6",
        "colab": {
          "base_uri": "https://localhost:8080/",
          "height": 300
        }
      },
      "source": [
        "X = torch.randn(100, 1)*10\n",
        "Y = X + 3*torch.randn(100, 1)\n",
        "plt.plot(X.numpy(), Y.numpy(), 'o')\n",
        "plt.xlabel('x')\n",
        "plt.ylabel('y')"
      ],
      "execution_count": 48,
      "outputs": [
        {
          "output_type": "execute_result",
          "data": {
            "text/plain": [
              "Text(0, 0.5, 'y')"
            ]
          },
          "metadata": {
            "tags": []
          },
          "execution_count": 48
        },
        {
          "output_type": "display_data",
          "data": {
            "image/png": "[encoded data removed]",
            "text/plain": [
              "<Figure size 432x288 with 1 Axes>"
            ]
          },
          "metadata": {
            "tags": []
          }
        }
      ]
    },
    {
      "cell_type": "code",
      "metadata": {
        "id": "H62QNwd-5iuH",
        "colab_type": "code",
        "colab": {}
      },
      "source": [
        "class LR(nn.Module):\n",
        "  def __init__(self, input_size, output_size):\n",
        "    super().__init__()\n",
        "    self.linear = nn.Linear(input_size, output_size)\n",
        "  def forward(self, x):\n",
        "    pred =  self.linear(x)\n",
        "    return pred \n"
      ],
      "execution_count": 0,
      "outputs": []
    },
    {
      "cell_type": "code",
      "metadata": {
        "id": "y-rXukA46QXV",
        "colab_type": "code",
        "outputId": "530070ed-7940-4501-aa30-b2d91fa9b55d",
        "colab": {
          "base_uri": "https://localhost:8080/",
          "height": 67
        }
      },
      "source": [
        "torch.manual_seed(1)\n",
        "model1 =  LR(1, 1)\n",
        "#print(list(model1.parameters()))\n",
        "print(model1)"
      ],
      "execution_count": 51,
      "outputs": [
        {
          "output_type": "stream",
          "text": [
            "LR(\n",
            "  (linear): Linear(in_features=1, out_features=1, bias=True)\n",
            ")\n"
          ],
          "name": "stdout"
        }
      ]
    },
    {
      "cell_type": "code",
      "metadata": {
        "id": "w9ZADzjV65Qw",
        "colab_type": "code",
        "outputId": "12b1ba99-d937-437b-c675-4b4b9aa7101f",
        "colab": {
          "base_uri": "https://localhost:8080/",
          "height": 50
        }
      },
      "source": [
        "#x = torch.tensor([[1.0], [2.0]])\n",
        "#print(model1.forward(x))"
      ],
      "execution_count": 0,
      "outputs": [
        {
          "output_type": "stream",
          "text": [
            "tensor([[0.0739],\n",
            "        [0.5891]], grad_fn=<AddmmBackward>)\n"
          ],
          "name": "stdout"
        }
      ]
    },
    {
      "cell_type": "code",
      "metadata": {
        "id": "QnqJuNh29vo5",
        "colab_type": "code",
        "colab": {}
      },
      "source": [
        "[w, b] = model1.parameters()\n",
        "def get_params():\n",
        "  return (w[0][0].item(), b[0].item())"
      ],
      "execution_count": 0,
      "outputs": []
    },
    {
      "cell_type": "code",
      "metadata": {
        "id": "0A2h-_2F1h5k",
        "colab_type": "code",
        "colab": {}
      },
      "source": [
        "def plot_fit(title):\n",
        "  plt.title = title\n",
        "  w1, b1 = get_params()\n",
        "  x1 = np.array([-30, 30])\n",
        "  y1 = w1*x1 + b1\n",
        "  plt.plot(x1, y1, 'r')\n",
        "  plt.scatter(X, Y)\n",
        "  plt.show()"
      ],
      "execution_count": 0,
      "outputs": []
    },
    {
      "cell_type": "code",
      "metadata": {
        "id": "6HTPclLX3kQu",
        "colab_type": "code",
        "outputId": "4149d9fb-6ced-4b5e-9af5-ee9998120726",
        "colab": {
          "base_uri": "https://localhost:8080/",
          "height": 269
        }
      },
      "source": [
        "plot_fit('Initial Model')"
      ],
      "execution_count": 54,
      "outputs": [
        {
          "output_type": "display_data",
          "data": {
            "image/png": "[encoded data removed]",
            "text/plain": [
              "<Figure size 432x288 with 1 Axes>"
            ]
          },
          "metadata": {
            "tags": []
          }
        }
      ]
    },
    {
      "cell_type": "code",
      "metadata": {
        "id": "abubDxks4EFQ",
        "colab_type": "code",
        "colab": {}
      },
      "source": [
        "criterion = nn.MSELoss()\n",
        "optimizer = torch.optim.SGD(model1.parameters(), lr = 0.01)"
      ],
      "execution_count": 0,
      "outputs": []
    },
    {
      "cell_type": "code",
      "metadata": {
        "id": "DDXZzDi3G4_f",
        "colab_type": "code",
        "colab": {
          "base_uri": "https://localhost:8080/",
          "height": 857
        },
        "outputId": "0c9484bb-b893-434e-fff9-356ff1f81b04"
      },
      "source": [
        "epochs = 50\n",
        "losses = []\n",
        "for i in range(epochs):\n",
        "  y_pred = model1.forward(X)\n",
        "  loss = criterion(y_pred, Y)\n",
        "  print(\"epoch:\", i, \"loss:\", loss.item())\n",
        "  \n",
        "  losses.append(loss)\n",
        "  optimizer.zero_grad()\n",
        "  loss.backward()\n",
        "  optimizer.step()"
      ],
      "execution_count": 61,
      "outputs": [
        {
          "output_type": "stream",
          "text": [
            "epoch: 0 loss: 1.383394003667467e+22\n",
            "epoch: 1 loss: 1.7555921934316506e+22\n",
            "epoch: 2 loss: 2.2279278083204266e+22\n",
            "epoch: 3 loss: 2.827343633104539e+22\n",
            "epoch: 4 loss: 3.588031108744975e+22\n",
            "epoch: 5 loss: 4.553381516931524e+22\n",
            "epoch: 6 loss: 5.778453389728623e+22\n",
            "epoch: 7 loss: 7.333126155214421e+22\n",
            "epoch: 8 loss: 9.306077041131733e+22\n",
            "epoch: 9 loss: 1.1809852353248435e+23\n",
            "epoch: 10 loss: 1.4987251778189228e+23\n",
            "epoch: 11 loss: 1.9019519080077935e+23\n",
            "epoch: 12 loss: 2.413665849620392e+23\n",
            "epoch: 13 loss: 3.063053390689826e+23\n",
            "epoch: 14 loss: 3.887157719015128e+23\n",
            "epoch: 15 loss: 4.9329886685146874e+23\n",
            "epoch: 16 loss: 6.260184346606025e+23\n",
            "epoch: 17 loss: 7.944463593680135e+23\n",
            "epoch: 18 loss: 1.0081896476412145e+24\n",
            "epoch: 19 loss: 1.2794393635275124e+24\n",
            "epoch: 20 loss: 1.6236668489276025e+24\n",
            "epoch: 21 loss: 2.060508951138325e+24\n",
            "epoch: 22 loss: 2.61488131268055e+24\n",
            "epoch: 23 loss: 3.3184064086978226e+24\n",
            "epoch: 24 loss: 4.2112089339694104e+24\n",
            "epoch: 25 loss: 5.34422524879922e+24\n",
            "epoch: 26 loss: 6.782071703604071e+24\n",
            "epoch: 27 loss: 8.606760216692667e+24\n",
            "epoch: 28 loss: 1.0922380576726179e+25\n",
            "epoch: 29 loss: 1.3861005706664845e+25\n",
            "epoch: 30 loss: 1.7590268663896245e+25\n",
            "epoch: 31 loss: 2.2322852337139716e+25\n",
            "epoch: 32 loss: 2.832871329669895e+25\n",
            "epoch: 33 loss: 3.595046292025496e+25\n",
            "epoch: 34 loss: 4.562281487280577e+25\n",
            "epoch: 35 loss: 5.789747207026488e+25\n",
            "epoch: 36 loss: 7.3474553013833825e+25\n",
            "epoch: 37 loss: 9.32426650356593e+25\n",
            "epoch: 38 loss: 1.1832925007509635e+26\n",
            "epoch: 39 loss: 1.501652681868028e+26\n",
            "epoch: 40 loss: 1.9056657996390647e+26\n",
            "epoch: 41 loss: 2.4183792161097664e+26\n",
            "epoch: 42 loss: 3.0690355400892608e+26\n",
            "epoch: 43 loss: 3.894744824500392e+26\n",
            "epoch: 44 loss: 4.942610276933056e+26\n",
            "epoch: 45 loss: 6.272400639458156e+26\n",
            "epoch: 46 loss: 7.959964127553327e+26\n",
            "epoch: 47 loss: 1.0101561754753289e+27\n",
            "epoch: 48 loss: 1.2819352287532724e+27\n",
            "epoch: 49 loss: 1.6268354784389458e+27\n"
          ],
          "name": "stdout"
        }
      ]
    },
    {
      "cell_type": "code",
      "metadata": {
        "id": "fvTU3getHWPj",
        "colab_type": "code",
        "colab": {
          "base_uri": "https://localhost:8080/",
          "height": 293
        },
        "outputId": "01356200-b3c6-4a7f-c596-402560fc3715"
      },
      "source": [
        "plt.plot(range(epochs), losses)"
      ],
      "execution_count": 62,
      "outputs": [
        {
          "output_type": "execute_result",
          "data": {
            "text/plain": [
              "[<matplotlib.lines.Line2D at 0x7fa68875bf28>]"
            ]
          },
          "metadata": {
            "tags": []
          },
          "execution_count": 62
        },
        {
          "output_type": "display_data",
          "data": {
            "image/png": "[encoded data removed]",
            "text/plain": [
              "<Figure size 432x288 with 1 Axes>"
            ]
          },
          "metadata": {
            "tags": []
          }
        }
      ]
    },
    {
      "cell_type": "code",
      "metadata": {
        "id": "ZWETkA-cLKau",
        "colab_type": "code",
        "colab": {
          "base_uri": "https://localhost:8080/",
          "height": 276
        },
        "outputId": "f9f74810-071f-4917-f261-deb89643efad"
      },
      "source": [
        "plot_fit(\"Training Model\")"
      ],
      "execution_count": 63,
      "outputs": [
        {
          "output_type": "display_data",
          "data": {
            "image/png": "[encoded data removed]",
            "text/plain": [
              "<Figure size 432x288 with 1 Axes>"
            ]
          },
          "metadata": {
            "tags": []
          }
        }
      ]
    },
    {
      "cell_type": "code",
      "metadata": {
        "id": "Pybm8E00LbfL",
        "colab_type": "code",
        "colab": {}
      },
      "source": [
        "  "
      ],
      "execution_count": 0,
      "outputs": []
    }
  ]
}