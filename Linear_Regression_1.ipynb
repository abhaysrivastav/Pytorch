{
  "nbformat": 4,
  "nbformat_minor": 0,
  "metadata": {
    "colab": {
      "name": "Linear_Regression_1.ipynb",
      "version": "0.3.2",
      "provenance": [],
      "collapsed_sections": [],
      "include_colab_link": true
    },
    "kernelspec": {
      "name": "python3",
      "display_name": "Python 3"
    }
  },
  "cells": [
    {
      "cell_type": "markdown",
      "metadata": {
        "id": "view-in-github",
        "colab_type": "text"
      },
      "source": [
        "<a href=\"https://colab.research.google.com/github/abhaysrivastav/Pytorch/blob/master/Linear_Regression_1.ipynb\" target=\"_parent\"><img src=\"https://colab.research.google.com/assets/colab-badge.svg\" alt=\"Open In Colab\"/></a>"
      ]
    },
    {
      "cell_type": "code",
      "metadata": {
        "id": "yz6tk53kTKT5",
        "colab_type": "code",
        "colab": {}
      },
      "source": [
        "import torch\n",
        "from torch.nn import Linear\n"
      ],
      "execution_count": 0,
      "outputs": []
    },
    {
      "cell_type": "code",
      "metadata": {
        "id": "0NZqKPbhVEtN",
        "colab_type": "code",
        "outputId": "7d891fe7-2107-4542-f3f5-f1ecc7da2f33",
        "colab": {
          "base_uri": "https://localhost:8080/",
          "height": 67
        }
      },
      "source": [
        "torch.manual_seed(1)\n",
        "model =  Linear(in_features=1 , out_features=1)\n",
        "print(model.bias, model.weight)"
      ],
      "execution_count": 2,
      "outputs": [
        {
          "output_type": "stream",
          "text": [
            "Parameter containing:\n",
            "tensor([-0.4414], requires_grad=True) Parameter containing:\n",
            "tensor([[0.5153]], requires_grad=True)\n"
          ],
          "name": "stdout"
        }
      ]
    },
    {
      "cell_type": "code",
      "metadata": {
        "id": "bV5TMJMzcRtV",
        "colab_type": "code",
        "outputId": "96a928f5-11e9-4fae-80af-544e3100b384",
        "colab": {
          "base_uri": "https://localhost:8080/",
          "height": 50
        }
      },
      "source": [
        "x = torch.tensor([[2.0], [3.0]])\n",
        "print(model(x))"
      ],
      "execution_count": 3,
      "outputs": [
        {
          "output_type": "stream",
          "text": [
            "tensor([[0.5891],\n",
            "        [1.1044]], grad_fn=<AddmmBackward>)\n"
          ],
          "name": "stdout"
        }
      ]
    },
    {
      "cell_type": "markdown",
      "metadata": {
        "id": "rkkiYO2S332d",
        "colab_type": "text"
      },
      "source": [
        "**Custom Linear Models**\n",
        "\n",
        "---\n",
        "\n",
        "\n",
        "\n",
        "---\n",
        "\n"
      ]
    },
    {
      "cell_type": "code",
      "metadata": {
        "id": "i5lpXfgZ39n5",
        "colab_type": "code",
        "colab": {}
      },
      "source": [
        "import torch.nn as nn\n",
        "import matplotlib.pyplot as plt\n",
        "import numpy as np\n"
      ],
      "execution_count": 0,
      "outputs": []
    },
    {
      "cell_type": "code",
      "metadata": {
        "id": "AjTEmaP5C5H3",
        "colab_type": "code",
        "outputId": "e20db0a6-f89c-4861-e46a-0820b7426e7f",
        "colab": {
          "base_uri": "https://localhost:8080/",
          "height": 300
        }
      },
      "source": [
        "X = torch.randn(100, 1)*10\n",
        "Y = X + 3*torch.randn(100, 1)\n",
        "plt.plot(X.numpy(), Y.numpy(), 'o')\n",
        "plt.xlabel('x')\n",
        "plt.ylabel('y')"
      ],
      "execution_count": 3,
      "outputs": [
        {
          "output_type": "execute_result",
          "data": {
            "text/plain": [
              "Text(0, 0.5, 'y')"
            ]
          },
          "metadata": {
            "tags": []
          },
          "execution_count": 3
        },
        {
          "output_type": "display_data",
          "data": {
            "image/png": "[encoded data removed]",
            "text/plain": [
              "<Figure size 432x288 with 1 Axes>"
            ]
          },
          "metadata": {
            "tags": []
          }
        }
      ]
    },
    {
      "cell_type": "code",
      "metadata": {
        "id": "H62QNwd-5iuH",
        "colab_type": "code",
        "colab": {}
      },
      "source": [
        "class LR(nn.Module):\n",
        "  def __init__(self, input_size, output_size):\n",
        "    super().__init__()\n",
        "    self.linear = nn.Linear(input_size, output_size)\n",
        "  def forward(self, x):\n",
        "    pred =  self.linear(x)\n",
        "    return pred \n"
      ],
      "execution_count": 0,
      "outputs": []
    },
    {
      "cell_type": "code",
      "metadata": {
        "id": "y-rXukA46QXV",
        "colab_type": "code",
        "outputId": "0087721f-cbd5-44e1-d819-349627d98f50",
        "colab": {
          "base_uri": "https://localhost:8080/",
          "height": 67
        }
      },
      "source": [
        "torch.manual_seed(1)\n",
        "model1 =  LR(1, 1)\n",
        "#print(list(model1.parameters()))\n",
        "print(model1)"
      ],
      "execution_count": 5,
      "outputs": [
        {
          "output_type": "stream",
          "text": [
            "LR(\n",
            "  (linear): Linear(in_features=1, out_features=1, bias=True)\n",
            ")\n"
          ],
          "name": "stdout"
        }
      ]
    },
    {
      "cell_type": "code",
      "metadata": {
        "id": "w9ZADzjV65Qw",
        "colab_type": "code",
        "colab": {}
      },
      "source": [
        "#x = torch.tensor([[1.0], [2.0]])\n",
        "#print(model1.forward(x))"
      ],
      "execution_count": 0,
      "outputs": []
    },
    {
      "cell_type": "code",
      "metadata": {
        "id": "QnqJuNh29vo5",
        "colab_type": "code",
        "colab": {}
      },
      "source": [
        "[w, b] = model1.parameters()\n",
        "def get_params():\n",
        "  return (w[0][0].item(), b[0].item())"
      ],
      "execution_count": 0,
      "outputs": []
    },
    {
      "cell_type": "code",
      "metadata": {
        "id": "0A2h-_2F1h5k",
        "colab_type": "code",
        "colab": {}
      },
      "source": [
        "def plot_fit(title):\n",
        "  plt.title = title\n",
        "  w1, b1 = get_params()\n",
        "  x1 = np.array([-30, 30])\n",
        "  y1 = w1*x1 + b1\n",
        "  plt.plot(x1, y1, 'r')\n",
        "  plt.scatter(X, Y)\n",
        "  plt.show()"
      ],
      "execution_count": 0,
      "outputs": []
    },
    {
      "cell_type": "code",
      "metadata": {
        "id": "6HTPclLX3kQu",
        "colab_type": "code",
        "outputId": "824cbd7d-4504-488a-a0eb-f713a190e860",
        "colab": {
          "base_uri": "https://localhost:8080/",
          "height": 269
        }
      },
      "source": [
        "plot_fit('Initial Model')"
      ],
      "execution_count": 8,
      "outputs": [
        {
          "output_type": "display_data",
          "data": {
            "image/png": "[encoded data removed]",
            "text/plain": [
              "<Figure size 432x288 with 1 Axes>"
            ]
          },
          "metadata": {
            "tags": []
          }
        }
      ]
    },
    {
      "cell_type": "code",
      "metadata": {
        "id": "abubDxks4EFQ",
        "colab_type": "code",
        "colab": {}
      },
      "source": [
        "criterion = nn.MSELoss()\n",
        "optimizer = torch.optim.SGD(model1.parameters(), lr = 0.001)"
      ],
      "execution_count": 0,
      "outputs": []
    },
    {
      "cell_type": "code",
      "metadata": {
        "id": "DDXZzDi3G4_f",
        "colab_type": "code",
        "colab": {
          "base_uri": "https://localhost:8080/",
          "height": 1000
        },
        "outputId": "406cc85a-4e40-43c7-80b6-69bb5fe58839"
      },
      "source": [
        "epochs = 100\n",
        "losses = []\n",
        "for i in range(epochs):\n",
        "  y_pred = model1.forward(X)\n",
        "  loss = criterion(y_pred, Y)\n",
        "  print(\"epoch:\", i, \"loss:\", loss.item())\n",
        "  \n",
        "  losses.append(loss)\n",
        "  optimizer.zero_grad()\n",
        "  loss.backward()\n",
        "  optimizer.step()"
      ],
      "execution_count": 14,
      "outputs": [
        {
          "output_type": "stream",
          "text": [
            "epoch: 0 loss: 1.9841973751822418e+18\n",
            "epoch: 1 loss: 1.2024527167317606e+18\n",
            "epoch: 2 loss: 7.2870394264866e+17\n",
            "epoch: 3 loss: 4.4160527319957504e+17\n",
            "epoch: 4 loss: 2.6761924041506816e+17\n",
            "epoch: 5 loss: 1.6218116055262822e+17\n",
            "epoch: 6 loss: 9.828416758585754e+16\n",
            "epoch: 7 loss: 5.95616400932864e+16\n",
            "epoch: 8 loss: 3.609521868819661e+16\n",
            "epoch: 9 loss: 2.1874229783822336e+16\n",
            "epoch: 10 loss: 1.3256103026491392e+16\n",
            "epoch: 11 loss: 8033391119171584.0\n",
            "epoch: 12 loss: 4868352409337856.0\n",
            "epoch: 13 loss: 2950292760952832.0\n",
            "epoch: 14 loss: 1787920528703488.0\n",
            "epoch: 15 loss: 1083506096603136.0\n",
            "epoch: 16 loss: 656620505792512.0\n",
            "epoch: 17 loss: 397921606434816.0\n",
            "epoch: 18 loss: 241146324320256.0\n",
            "epoch: 19 loss: 146138191626240.0\n",
            "epoch: 20 loss: 88561890099200.0\n",
            "epoch: 21 loss: 53669798084608.0\n",
            "epoch: 22 loss: 32524688424960.0\n",
            "epoch: 23 loss: 19710435393536.0\n",
            "epoch: 24 loss: 11944812609536.0\n",
            "epoch: 25 loss: 7238732218368.0\n",
            "epoch: 26 loss: 4386777464832.0\n",
            "epoch: 27 loss: 2658451324928.0\n",
            "epoch: 28 loss: 1611060477952.0\n",
            "epoch: 29 loss: 976326164480.0\n",
            "epoch: 30 loss: 591667920896.0\n",
            "epoch: 31 loss: 358559383552.0\n",
            "epoch: 32 loss: 217292242944.0\n",
            "epoch: 33 loss: 131682263040.0\n",
            "epoch: 34 loss: 79801384960.0\n",
            "epoch: 35 loss: 48360804352.0\n",
            "epoch: 36 loss: 29307353088.0\n",
            "epoch: 37 loss: 17760684032.0\n",
            "epoch: 38 loss: 10763236352.0\n",
            "epoch: 39 loss: 6522678784.0\n",
            "epoch: 40 loss: 3952838144.0\n",
            "epoch: 41 loss: 2395477760.0\n",
            "epoch: 42 loss: 1451694336.0\n",
            "epoch: 43 loss: 879748096.0\n",
            "epoch: 44 loss: 533140224.0\n",
            "epoch: 45 loss: 323090784.0\n",
            "epoch: 46 loss: 195797760.0\n",
            "epoch: 47 loss: 118656312.0\n",
            "epoch: 48 loss: 71907456.0\n",
            "epoch: 49 loss: 43576972.0\n",
            "epoch: 50 loss: 26408282.0\n",
            "epoch: 51 loss: 16003808.0\n",
            "epoch: 52 loss: 9698546.0\n",
            "epoch: 53 loss: 5877463.0\n",
            "epoch: 54 loss: 3561831.5\n",
            "epoch: 55 loss: 2158525.0\n",
            "epoch: 56 loss: 1308100.875\n",
            "epoch: 57 loss: 792731.375\n",
            "epoch: 58 loss: 480409.9375\n",
            "epoch: 59 loss: 291138.5625\n",
            "epoch: 60 loss: 176437.375\n",
            "epoch: 61 loss: 106926.765625\n",
            "epoch: 62 loss: 64802.29296875\n",
            "epoch: 63 loss: 39274.25390625\n",
            "epoch: 64 loss: 23803.88671875\n",
            "epoch: 65 loss: 14428.62109375\n",
            "epoch: 66 loss: 8747.072265625\n",
            "epoch: 67 loss: 5303.97021484375\n",
            "epoch: 68 loss: 3217.39990234375\n",
            "epoch: 69 loss: 1952.9066162109375\n",
            "epoch: 70 loss: 1186.6046142578125\n",
            "epoch: 71 loss: 722.21337890625\n",
            "epoch: 72 loss: 440.7850036621094\n",
            "epoch: 73 loss: 270.23455810546875\n",
            "epoch: 74 loss: 166.8777618408203\n",
            "epoch: 75 loss: 104.24134063720703\n",
            "epoch: 76 loss: 66.28206634521484\n",
            "epoch: 77 loss: 43.27749252319336\n",
            "epoch: 78 loss: 29.335697174072266\n",
            "epoch: 79 loss: 20.886077880859375\n",
            "epoch: 80 loss: 15.76479721069336\n",
            "epoch: 81 loss: 12.660544395446777\n",
            "epoch: 82 loss: 10.778641700744629\n",
            "epoch: 83 loss: 9.637502670288086\n",
            "epoch: 84 loss: 8.945281982421875\n",
            "epoch: 85 loss: 8.525113105773926\n",
            "epoch: 86 loss: 8.269815444946289\n",
            "epoch: 87 loss: 8.114435195922852\n",
            "epoch: 88 loss: 8.019607543945312\n",
            "epoch: 89 loss: 7.961479663848877\n",
            "epoch: 90 loss: 7.925594329833984\n",
            "epoch: 91 loss: 7.903190612792969\n",
            "epoch: 92 loss: 7.888959884643555\n",
            "epoch: 93 loss: 7.879684925079346\n",
            "epoch: 94 loss: 7.873415470123291\n",
            "epoch: 95 loss: 7.8689703941345215\n",
            "epoch: 96 loss: 7.865633010864258\n",
            "epoch: 97 loss: 7.862969398498535\n",
            "epoch: 98 loss: 7.860716819763184\n",
            "epoch: 99 loss: 7.858716011047363\n"
          ],
          "name": "stdout"
        }
      ]
    },
    {
      "cell_type": "code",
      "metadata": {
        "id": "fvTU3getHWPj",
        "colab_type": "code",
        "colab": {
          "base_uri": "https://localhost:8080/",
          "height": 293
        },
        "outputId": "f234f08f-846c-4223-d49a-ed43a5b8873e"
      },
      "source": [
        "plt.plot(range(epochs), losses)"
      ],
      "execution_count": 15,
      "outputs": [
        {
          "output_type": "execute_result",
          "data": {
            "text/plain": [
              "[<matplotlib.lines.Line2D at 0x7f1a1ddbee48>]"
            ]
          },
          "metadata": {
            "tags": []
          },
          "execution_count": 15
        },
        {
          "output_type": "display_data",
          "data": {
            "image/png": "[encoded data removed]",
            "text/plain": [
              "<Figure size 432x288 with 1 Axes>"
            ]
          },
          "metadata": {
            "tags": []
          }
        }
      ]
    },
    {
      "cell_type": "code",
      "metadata": {
        "id": "ZWETkA-cLKau",
        "colab_type": "code",
        "colab": {
          "base_uri": "https://localhost:8080/",
          "height": 269
        },
        "outputId": "ec1bfabc-0bd6-4812-bd46-047ba473a8ad"
      },
      "source": [
        "plot_fit(\"Training Model\")"
      ],
      "execution_count": 16,
      "outputs": [
        {
          "output_type": "display_data",
          "data": {
            "image/png": "[encoded data removed]",
            "text/plain": [
              "<Figure size 432x288 with 1 Axes>"
            ]
          },
          "metadata": {
            "tags": []
          }
        }
      ]
    },
    {
      "cell_type": "code",
      "metadata": {
        "id": "Pybm8E00LbfL",
        "colab_type": "code",
        "colab": {}
      },
      "source": [
        "  "
      ],
      "execution_count": 0,
      "outputs": []
    }
  ]
}